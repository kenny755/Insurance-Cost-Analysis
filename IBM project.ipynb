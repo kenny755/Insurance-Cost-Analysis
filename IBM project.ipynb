{
 "cells": [
  {
   "cell_type": "code",
   "id": "initial_id",
   "metadata": {
    "collapsed": true,
    "ExecuteTime": {
     "end_time": "2025-04-01T22:16:09.232359Z",
     "start_time": "2025-04-01T22:16:09.197125Z"
    }
   },
   "source": [
    "import pandas as pd\n",
    "import numpy as np\n",
    "import matplotlib.pyplot as plt\n",
    "import seaborn as sn\n",
    "from sklearn.pipeline import Pipeline\n",
    "from sklearn.preprocessing import StandardScaler, PolynomialFeatures\n",
    "from sklearn.linear_model import LinearRegression, Ridge\n",
    "from sklearn.metrics import mean_squared_error, r2_score\n",
    "from sklearn.model_selection import cross_val_score, train_test_split"
   ],
   "outputs": [],
   "execution_count": null
  },
  {
   "metadata": {
    "ExecuteTime": {
     "end_time": "2025-04-01T22:51:16.022600Z",
     "start_time": "2025-04-01T22:51:15.656752Z"
    }
   },
   "cell_type": "code",
   "source": [
    "path = \"C:\\\\Users\\\\Hp\\\\OneDrive\\\\Desktop\\\\PYTHON FOLDER\\\\medical_insurance_dataset.csv\"\n",
    "df = pd.read_csv(path, header=None)\n",
    "print(df.head(10))"
   ],
   "id": "ff7a3283e2024ec",
   "outputs": [
    {
     "name": "stdout",
     "output_type": "stream",
     "text": [
      "    0  1       2  3  4  5            6\n",
      "0  19  1  27.900  0  1  3  16884.92400\n",
      "1  18  2  33.770  1  0  4   1725.55230\n",
      "2  28  2  33.000  3  0  4   4449.46200\n",
      "3  33  2  22.705  0  0  1  21984.47061\n",
      "4  32  2  28.880  0  0  1   3866.85520\n",
      "5  31  1  25.740  0  ?  4   3756.62160\n",
      "6  46  1  33.440  1  0  4   8240.58960\n",
      "7  37  1  27.740  3  0  1   7281.50560\n",
      "8  37  2  29.830  2  0  2   6406.41070\n",
      "9  60  1  25.840  0  0  1  28923.13692\n"
     ]
    }
   ],
   "execution_count": 6
  },
  {
   "metadata": {
    "ExecuteTime": {
     "end_time": "2025-04-01T22:59:37.777650Z",
     "start_time": "2025-04-01T22:59:37.408926Z"
    }
   },
   "cell_type": "code",
   "source": [
    "headers = ['age', 'gender', 'bmi', 'no_of_children','smoker','region', 'charges']\n",
    "df.columns = headers"
   ],
   "id": "bb4cd2d014b08702",
   "outputs": [],
   "execution_count": 9
  },
  {
   "metadata": {
    "ExecuteTime": {
     "end_time": "2025-04-01T23:02:56.864018Z",
     "start_time": "2025-04-01T23:02:56.827212Z"
    }
   },
   "cell_type": "code",
   "source": [
    "df.replace('?', np.nan, inplace=True)\n",
    "print(df.head(10))"
   ],
   "id": "be2c7c8ebdfbbb29",
   "outputs": [
    {
     "name": "stdout",
     "output_type": "stream",
     "text": [
      "  age  gender     bmi  no_of_children smoker  region      charges\n",
      "0  19       1  27.900               0      1       3  16884.92400\n",
      "1  18       2  33.770               1      0       4   1725.55230\n",
      "2  28       2  33.000               3      0       4   4449.46200\n",
      "3  33       2  22.705               0      0       1  21984.47061\n",
      "4  32       2  28.880               0      0       1   3866.85520\n",
      "5  31       1  25.740               0    NaN       4   3756.62160\n",
      "6  46       1  33.440               1      0       4   8240.58960\n",
      "7  37       1  27.740               3      0       1   7281.50560\n",
      "8  37       2  29.830               2      0       2   6406.41070\n",
      "9  60       1  25.840               0      0       1  28923.13692\n"
     ]
    }
   ],
   "execution_count": 12
  },
  {
   "metadata": {
    "ExecuteTime": {
     "end_time": "2025-04-01T23:04:37.830637Z",
     "start_time": "2025-04-01T23:04:37.008283Z"
    }
   },
   "cell_type": "code",
   "source": "print(df.info())",
   "id": "2e3ae1f9e21f4b2a",
   "outputs": [
    {
     "name": "stdout",
     "output_type": "stream",
     "text": [
      "<class 'pandas.core.frame.DataFrame'>\n",
      "RangeIndex: 2772 entries, 0 to 2771\n",
      "Data columns (total 7 columns):\n",
      " #   Column          Non-Null Count  Dtype  \n",
      "---  ------          --------------  -----  \n",
      " 0   age             2768 non-null   object \n",
      " 1   gender          2772 non-null   int64  \n",
      " 2   bmi             2772 non-null   float64\n",
      " 3   no_of_children  2772 non-null   int64  \n",
      " 4   smoker          2765 non-null   object \n",
      " 5   region          2772 non-null   int64  \n",
      " 6   charges         2772 non-null   float64\n",
      "dtypes: float64(2), int64(3), object(2)\n",
      "memory usage: 151.7+ KB\n",
      "None\n"
     ]
    }
   ],
   "execution_count": 13
  },
  {
   "metadata": {
    "ExecuteTime": {
     "end_time": "2025-04-01T23:24:59.616849Z",
     "start_time": "2025-04-01T23:24:59.399769Z"
    }
   },
   "cell_type": "code",
   "source": [
    "# data wrangling\n",
    "is_smoker = df['smoker'].value_counts().idxmax()\n",
    "df['smoker'].replace(np.nan, is_smoker)\n",
    "\n",
    "mean_age = df['age'].astype('float').mean(axis=0)\n",
    "df['age'].replace(np.nan, mean_age, inplace=True)\n",
    "\n",
    "df[['age', 'smoker']] = df[['age', 'smoker']].astype('int')\n",
    "print(df.info())\n"
   ],
   "id": "31273cfae0fa1dde",
   "outputs": [
    {
     "name": "stdout",
     "output_type": "stream",
     "text": [
      "<class 'pandas.core.frame.DataFrame'>\n",
      "RangeIndex: 2772 entries, 0 to 2771\n",
      "Data columns (total 7 columns):\n",
      " #   Column          Non-Null Count  Dtype  \n",
      "---  ------          --------------  -----  \n",
      " 0   age             2772 non-null   int64  \n",
      " 1   gender          2772 non-null   int64  \n",
      " 2   bmi             2772 non-null   float64\n",
      " 3   no_of_children  2772 non-null   int64  \n",
      " 4   smoker          2772 non-null   int64  \n",
      " 5   region          2772 non-null   int64  \n",
      " 6   charges         2772 non-null   float64\n",
      "dtypes: float64(2), int64(5)\n",
      "memory usage: 151.7 KB\n",
      "None\n"
     ]
    }
   ],
   "execution_count": 20
  },
  {
   "metadata": {
    "ExecuteTime": {
     "end_time": "2025-04-01T23:30:55.297938Z",
     "start_time": "2025-04-01T23:30:54.791348Z"
    }
   },
   "cell_type": "code",
   "source": [
    "# charges updated to 2 decimal places\n",
    "df[['charges']] = np.round(df[['charges']].astype('float'), 2)\n",
    "print(df.head())"
   ],
   "id": "42a102321bdfc382",
   "outputs": [
    {
     "name": "stdout",
     "output_type": "stream",
     "text": [
      "   age  gender     bmi  no_of_children  smoker  region   charges\n",
      "0   19       1  27.900               0       1       3  16884.92\n",
      "1   18       2  33.770               1       0       4   1725.55\n",
      "2   28       2  33.000               3       0       4   4449.46\n",
      "3   33       2  22.705               0       0       1  21984.47\n",
      "4   32       2  28.880               0       0       1   3866.86\n"
     ]
    }
   ],
   "execution_count": 21
  },
  {
   "metadata": {
    "ExecuteTime": {
     "end_time": "2025-04-02T00:08:04.963588Z",
     "start_time": "2025-04-02T00:08:03.968193Z"
    }
   },
   "cell_type": "code",
   "source": [
    "# implementing regresion chart\n",
    "import seaborn as sns\n",
    "import matplotlib.pyplot as plt\n",
    "sns.regplot(x='bmi', y='charges', data=df, marker='o', line_kws={'color': 'red'})\n",
    "plt.ylim(0, 100)"
   ],
   "id": "324ece13eced91f5",
   "outputs": [
    {
     "data": {
      "text/plain": [
       "(0.0, 100.0)"
      ]
     },
     "execution_count": 33,
     "metadata": {},
     "output_type": "execute_result"
    },
    {
     "data": {
      "text/plain": [
       "<Figure size 640x480 with 1 Axes>"
      ],
      "image/png": "[encoded data removed]"
     },
     "metadata": {},
     "output_type": "display_data"
    }
   ],
   "execution_count": 33
  },
  {
   "metadata": {
    "ExecuteTime": {
     "end_time": "2025-04-02T00:10:47.257614Z",
     "start_time": "2025-04-02T00:10:45.275217Z"
    }
   },
   "cell_type": "code",
   "source": [
    "# implementing box plot for charges with respect t smokers\n",
    "import seaborn as sns\n",
    "sns.boxplot(x='smoker', y='charges', data=df)"
   ],
   "id": "3c7ebab247fd7983",
   "outputs": [
    {
     "data": {
      "text/plain": [
       "<Axes: xlabel='smoker', ylabel='charges'>"
      ]
     },
     "execution_count": 34,
     "metadata": {},
     "output_type": "execute_result"
    },
    {
     "data": {
      "text/plain": [
       "<Figure size 640x480 with 1 Axes>"
      ],
      "image/png": "[encoded data removed]"
     },
     "metadata": {},
     "output_type": "display_data"
    }
   ],
   "execution_count": 34
  },
  {
   "metadata": {
    "ExecuteTime": {
     "end_time": "2025-04-02T00:12:12.937423Z",
     "start_time": "2025-04-02T00:12:11.710746Z"
    }
   },
   "cell_type": "code",
   "source": "print(df.corr())",
   "id": "d9f8fc771cc9a9c1",
   "outputs": [
    {
     "name": "stdout",
     "output_type": "stream",
     "text": [
      "                     age    gender       bmi  no_of_children    smoker  \\\n",
      "age             1.000000 -0.026046  0.113048        0.037574 -0.023286   \n",
      "gender         -0.026046  1.000000  0.042924        0.016020  0.082326   \n",
      "bmi             0.113048  0.042924  1.000000       -0.001492  0.011489   \n",
      "no_of_children  0.037574  0.016020 -0.001492        1.000000  0.006362   \n",
      "smoker         -0.023286  0.082326  0.011489        0.006362  1.000000   \n",
      "region         -0.007167  0.022213  0.271119       -0.025717  0.054077   \n",
      "charges         0.298624  0.062837  0.199846        0.066442  0.788783   \n",
      "\n",
      "                  region   charges  \n",
      "age            -0.007167  0.298624  \n",
      "gender          0.022213  0.062837  \n",
      "bmi             0.271119  0.199846  \n",
      "no_of_children -0.025717  0.066442  \n",
      "smoker          0.054077  0.788783  \n",
      "region          1.000000  0.054058  \n",
      "charges         0.054058  1.000000  \n"
     ]
    }
   ],
   "execution_count": 35
  },
  {
   "metadata": {
    "ExecuteTime": {
     "end_time": "2025-04-02T00:28:17.145574Z",
     "start_time": "2025-04-02T00:28:16.804487Z"
    }
   },
   "cell_type": "code",
   "source": [
    "# to get the R2 score of the model\n",
    "x = df [['smoker']]\n",
    "y = df['charges']\n",
    "lm = LinearRegression ()\n",
    "lm.fit(x, y)\n",
    "print(lm.score(x, y))"
   ],
   "id": "3c144e387d1436bf",
   "outputs": [
    {
     "name": "stdout",
     "output_type": "stream",
     "text": [
      "0.6221791733924185\n"
     ]
    }
   ],
   "execution_count": 44
  },
  {
   "metadata": {
    "ExecuteTime": {
     "end_time": "2025-04-02T00:36:45.423090Z",
     "start_time": "2025-04-02T00:36:44.113892Z"
    }
   },
   "cell_type": "code",
   "source": [
    "# fit a linear regression model to predict the charges value\n",
    "## definition of Y and lm remains same as used above\n",
    "z = df[['age', 'gender', 'bmi', 'no_of_children', 'smoker', 'region']]\n",
    "lm.fit(z,y)\n",
    "print(lm.score(z,y))"
   ],
   "id": "6551b531fe1aeb5e",
   "outputs": [
    {
     "name": "stdout",
     "output_type": "stream",
     "text": [
      "0.7504083820289634\n"
     ]
    }
   ],
   "execution_count": 45
  },
  {
   "metadata": {
    "ExecuteTime": {
     "end_time": "2025-04-02T00:58:43.053463Z",
     "start_time": "2025-04-02T00:58:42.619887Z"
    }
   },
   "cell_type": "code",
   "source": [
    "# creating a training pipeline that use StandardScaler, Polynomial, & Linear Regression to create a model that can predict the charges values using all other attributes of the dataset--y & z use same values as defined in the previous cells\n",
    "from sklearn.preprocessing import StandardScaler, PolynomialFeatures\n",
    "from sklearn.pipeline import Pipeline\n",
    "from sklearn.metrics import mean_squared_error, r2_score\n",
    "Input = [('Scale',StandardScaler()), ('poly',PolynomialFeatures(include_bias=False)), ('model',LinearRegression())]\n",
    "pipe = Pipeline(Input)\n",
    "z = z.astype(float)\n",
    "pipe.fit(z,y)\n",
    "ypipe=pipe.predict(z)\n",
    "print(r2_score(y,ypipe))\n"
   ],
   "id": "bdfd12ab044f9a57",
   "outputs": [
    {
     "name": "stdout",
     "output_type": "stream",
     "text": [
      "0.8452576213500093\n"
     ]
    }
   ],
   "execution_count": 57
  },
  {
   "metadata": {
    "ExecuteTime": {
     "end_time": "2025-04-02T01:11:43.652973Z",
     "start_time": "2025-04-02T01:11:43.509749Z"
    }
   },
   "cell_type": "code",
   "source": [
    "# Model Refinement\n",
    "##splitting the data into training and testing subset reserving 20% of the dataset-- z & y hold same values as in previous\n",
    "from sklearn.model_selection import cross_val_score, train_test_split\n",
    "x_train, x_test, y_train, y_test = train_test_split(z, y, test_size=0.2, random_state=1)"
   ],
   "id": "bd66f5abb03c92bb",
   "outputs": [],
   "execution_count": 59
  },
  {
   "metadata": {
    "ExecuteTime": {
     "end_time": "2025-04-02T01:14:52.181696Z",
     "start_time": "2025-04-02T01:14:50.796674Z"
    }
   },
   "cell_type": "code",
   "source": [
    "# Initializing a Ridge regressor that use hyperparameter\n",
    "RidgeModel = Ridge(alpha=0.1)\n",
    "RidgeModel.fit(x_train, y_train)\n",
    "yhat=RidgeModel.predict(x_test)\n",
    "print(r2_score(y_test, yhat))"
   ],
   "id": "4da731b9d067c079",
   "outputs": [
    {
     "name": "stdout",
     "output_type": "stream",
     "text": [
      "0.6760807731582404\n"
     ]
    }
   ],
   "execution_count": 60
  },
  {
   "metadata": {
    "ExecuteTime": {
     "end_time": "2025-04-02T01:23:05.849075Z",
     "start_time": "2025-04-02T01:23:04.319327Z"
    }
   },
   "cell_type": "code",
   "source": [
    "# Applying polynoimial transformation to the training parameter with degree=2. fitting to the same regression model above\n",
    "## x_train, X_test, y_train, y_test hold same values as previous cells\n",
    "pr = PolynomialFeatures(degree=2)\n",
    "x_train_pr = pr.fit_transform(x_train)\n",
    "x_test_pr = pr.transform(x_test)\n",
    "RidgeModel.fit(x_train_pr, y_train)\n",
    "y_hat = RidgeModel.predict(x_test_pr)\n",
    "print(r2_score(y_test, yhat))\n"
   ],
   "id": "cf6e6e977764e7fc",
   "outputs": [
    {
     "name": "stdout",
     "output_type": "stream",
     "text": [
      "0.6760807731582404\n"
     ]
    }
   ],
   "execution_count": 61
  },
  {
   "metadata": {},
   "cell_type": "code",
   "outputs": [],
   "execution_count": null,
   "source": "",
   "id": "94fa04f9543bf37c"
  }
 ],
 "metadata": {
  "kernelspec": {
   "display_name": "Python 3",
   "language": "python",
   "name": "python3"
  },
  "language_info": {
   "codemirror_mode": {
    "name": "ipython",
    "version": 2
   },
   "file_extension": ".py",
   "mimetype": "text/x-python",
   "name": "python",
   "nbconvert_exporter": "python",
   "pygments_lexer": "ipython2",
   "version": "2.7.6"
  }
 },
 "nbformat": 4,
 "nbformat_minor": 5
}
